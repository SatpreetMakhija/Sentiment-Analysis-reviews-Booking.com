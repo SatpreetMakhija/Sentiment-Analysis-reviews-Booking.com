{
 "cells": [
  {
   "cell_type": "code",
   "execution_count": 1,
   "metadata": {},
   "outputs": [
    {
     "ename": "ModuleNotFoundError",
     "evalue": "No module named 'nltk'",
     "output_type": "error",
     "traceback": [
      "\u001b[0;31m---------------------------------------------------------------------------\u001b[0m",
      "\u001b[0;31mModuleNotFoundError\u001b[0m                       Traceback (most recent call last)",
      "\u001b[0;32m<ipython-input-1-721f005e0c1b>\u001b[0m in \u001b[0;36m<module>\u001b[0;34m\u001b[0m\n\u001b[1;32m      2\u001b[0m \u001b[0;32mfrom\u001b[0m \u001b[0mpathlib\u001b[0m \u001b[0;32mimport\u001b[0m \u001b[0mPath\u001b[0m\u001b[0;34m\u001b[0m\u001b[0;34m\u001b[0m\u001b[0m\n\u001b[1;32m      3\u001b[0m \u001b[0;32mimport\u001b[0m \u001b[0mos\u001b[0m\u001b[0;34m\u001b[0m\u001b[0;34m\u001b[0m\u001b[0m\n\u001b[0;32m----> 4\u001b[0;31m \u001b[0;32mfrom\u001b[0m \u001b[0mnltk\u001b[0m\u001b[0;34m.\u001b[0m\u001b[0mtokenize\u001b[0m \u001b[0;32mimport\u001b[0m \u001b[0mword_tokenize\u001b[0m\u001b[0;34m\u001b[0m\u001b[0;34m\u001b[0m\u001b[0m\n\u001b[0m\u001b[1;32m      5\u001b[0m \u001b[0;31m#stopwords are words such as \"a\", \"an\", \"be\", \"I\", etc. We will remove them when analysing the sentiments.\u001b[0m\u001b[0;34m\u001b[0m\u001b[0;34m\u001b[0m\u001b[0;34m\u001b[0m\u001b[0m\n\u001b[1;32m      6\u001b[0m \u001b[0;32mfrom\u001b[0m \u001b[0mnltk\u001b[0m\u001b[0;34m.\u001b[0m\u001b[0mcorpus\u001b[0m \u001b[0;32mimport\u001b[0m \u001b[0mstopwords\u001b[0m\u001b[0;34m\u001b[0m\u001b[0;34m\u001b[0m\u001b[0m\n",
      "\u001b[0;31mModuleNotFoundError\u001b[0m: No module named 'nltk'"
     ]
    }
   ],
   "source": [
    "import json\n",
    "from pathlib import Path \n",
    "import os\n",
    "from nltk.tokenize import word_tokenize\n",
    "#stopwords are words such as \"a\", \"an\", \"be\", \"I\", etc. We will remove them when analysing the sentiments.\n",
    "from nltk.corpus import stopwords\n",
    "from nltk.sentiment.vader import SentimentIntensityAnalyzer\n",
    "\n",
    "#fetch the json file\n",
    "current_path = str(Path().absolute())\n",
    "data_path = current_path + \"/dataset/singapore.json\"\n",
    "\n",
    "#we will use the nltk's SentimentAnalyzer to get the return value\n",
    "def analyse_sentiment(sentiment_text):\n",
    "    score = SentimentIntensityAnalyzer().polarity_scores(sentiment_text)\n",
    "    return score\n",
    "\n",
    "test = [\"good\", \"value\", \"money\"]\n",
    "x = analyse_sentiment(test)\n",
    "print(x)\n",
    "\n",
    "\n",
    "\n",
    "# with open(data_path) as file:\n",
    "#     data_content = json.loads(file.read())\n",
    "\n",
    "# for i in range(len(data_content)):\n",
    "\n",
    "#     for j in data_content[i][\"reviews\"]:\n",
    "#         current_review = data_content[i][\"reviews\"][k][\"content\"]\n",
    "#         current_review = current_review.lower()\n",
    "#         #remove special characters from the review comments\n",
    "#         review_comments = current_review.translate(str.maketrans('', '', string.punctuation))\n",
    "#         tokenized_reviews = word_tokenize(review_comments, \"english\")\n",
    "\n",
    "#         final_review_comments = list()\n",
    "#         #time to remove stopwords from the tokenized_review\n",
    "#         for word in tokenized_reviews:\n",
    "#             if word not in stopwords.words(\"english\"):\n",
    "#                 final_review_comments.append(word)\n",
    "\n",
    "\n",
    "\n",
    "\n",
    "\n",
    "\n",
    "\n",
    "\n"
   ]
  },
  {
   "cell_type": "code",
   "execution_count": null,
   "metadata": {},
   "outputs": [],
   "source": []
  }
 ],
 "metadata": {
  "kernelspec": {
   "display_name": "research",
   "language": "python",
   "name": "research"
  },
  "language_info": {
   "codemirror_mode": {
    "name": "ipython",
    "version": 3
   },
   "file_extension": ".py",
   "mimetype": "text/x-python",
   "name": "python",
   "nbconvert_exporter": "python",
   "pygments_lexer": "ipython3",
   "version": "3.8.4"
  },
  "orig_nbformat": 2
 },
 "nbformat": 4,
 "nbformat_minor": 2
}